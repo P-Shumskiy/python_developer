{
 "cells": [
  {
   "cell_type": "markdown",
   "metadata": {},
   "source": [
    "1. Английский язык (upper-intermediate \\ advanced)\n",
    "2. Strong knowledge of Python / Django framework (including ORM, 2+ years)\n",
    "3. JS / jQuery / jQuery UI (1+ years)\n",
    "4. html / CSS / Bootstrap (1+ years)\n",
    "5. MySQL, MariaDB, Postgres (2+ years), indexes, joins (fundamentals)\n",
    "6. VCS: git (mandatory)\n",
    "7. Celery, Redis (desirable)\n",
    "8. Knowledge of client-server architecture core principles, IIS support / maintenance.\n",
    "\n",
    "\n",
    "1. Ты уже несколько месяцев занимаешься коммерческой веб-разработкой\n",
    "2. Работаешь с Python и Django\n",
    "3. Можешь объяснить на конкретных примерах, что такое ООП\n",
    "4. Понимаешь основные концепции реляционных БД\n",
    "5. Сможешь рассказать о принципах UI разработки\n",
    "\n",
    "\n",
    "1. Strong Python development skills, Knowledge of Django framework;\n",
    "2. Database experience including MySQL and/or PostgreSQL (queries, design);\n",
    "3. Strong understanding of software programming best practices, data structures,
    algorithms, databases, and networks;\n",
    "4. Fluent English (intermediate, upper-intermediate or advanced);\n",
    "\n",
    "\n",
    "\n"
   ]
  },
  {
   "cell_type": "markdown",
   "metadata": {},
   "source": [
    "Итого:\n",
    "1. Python + django\n",
    "2. Js, jquery\n",
    "3. html, css, bootstrap\n",
    "4. sql\n",
    "5. programming best practices, how to create programms\n",
    "6. algorithms"
   ]
  },
  {
   "cell_type": "code",
   "execution_count": 1,
   "metadata": {},
   "outputs": [
    {
     "data": {
      "text/plain": [
       "{'CSS': ['Sorax']}"
      ]
     },
     "execution_count": 1,
     "metadata": {},
     "output_type": "execute_result"
    }
   ],
   "source": [
    "{'CSS': ['Sorax']}"
   ]
  }
 ],
 "metadata": {
  "kernelspec": {
   "display_name": "Python 3",
   "language": "python",
   "name": "python3"
  },
  "language_info": {
   "codemirror_mode": {
    "name": "ipython",
    "version": 3
   },
   "file_extension": ".py",
   "mimetype": "text/x-python",
   "name": "python",
   "nbconvert_exporter": "python",
   "pygments_lexer": "ipython3",
   "version": "3.7.3"
  }
 },
 "nbformat": 4,
 "nbformat_minor": 2
}
