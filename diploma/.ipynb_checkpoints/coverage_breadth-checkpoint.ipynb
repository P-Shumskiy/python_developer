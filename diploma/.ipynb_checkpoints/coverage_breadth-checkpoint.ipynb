{
 "cells": [
  {
   "cell_type": "code",
   "execution_count": 1,
   "metadata": {},
   "outputs": [],
   "source": [
    "import pandas as pd\n",
    "import numpy as np"
   ]
  },
  {
   "cell_type": "code",
   "execution_count": 96,
   "metadata": {},
   "outputs": [
    {
     "data": {
      "text/html": [
       "<div>\n",
       "<style scoped>\n",
       "    .dataframe tbody tr th:only-of-type {\n",
       "        vertical-align: middle;\n",
       "    }\n",
       "\n",
       "    .dataframe tbody tr th {\n",
       "        vertical-align: top;\n",
       "    }\n",
       "\n",
       "    .dataframe thead th {\n",
       "        text-align: right;\n",
       "    }\n",
       "</style>\n",
       "<table border=\"1\" class=\"dataframe\">\n",
       "  <thead>\n",
       "    <tr style=\"text-align: right;\">\n",
       "      <th></th>\n",
       "      <th>gene</th>\n",
       "      <th>percent_covered</th>\n",
       "    </tr>\n",
       "  </thead>\n",
       "  <tbody>\n",
       "    <tr>\n",
       "      <th>0</th>\n",
       "      <td>PAX5</td>\n",
       "      <td>100.0</td>\n",
       "    </tr>\n",
       "    <tr>\n",
       "      <th>1</th>\n",
       "      <td>CDKN2A</td>\n",
       "      <td>100.0</td>\n",
       "    </tr>\n",
       "    <tr>\n",
       "      <th>2</th>\n",
       "      <td>JAK2</td>\n",
       "      <td>100.0</td>\n",
       "    </tr>\n",
       "    <tr>\n",
       "      <th>3</th>\n",
       "      <td>HRAS</td>\n",
       "      <td>100.0</td>\n",
       "    </tr>\n",
       "    <tr>\n",
       "      <th>4</th>\n",
       "      <td>ELANE</td>\n",
       "      <td>100.0</td>\n",
       "    </tr>\n",
       "  </tbody>\n",
       "</table>\n",
       "</div>"
      ],
      "text/plain": [
       "     gene  percent_covered\n",
       "0    PAX5            100.0\n",
       "1  CDKN2A            100.0\n",
       "2    JAK2            100.0\n",
       "3    HRAS            100.0\n",
       "4   ELANE            100.0"
      ]
     },
     "execution_count": 96,
     "metadata": {},
     "output_type": "execute_result"
    }
   ],
   "source": [
    "def get_breadth_coverage(df):\n",
    "    \"\"\" function gets dataframe created from output of command \n",
    "        \"samtools bedtools coverage -a <BED> -b <BAM>\"\n",
    "        \n",
    "    \"\"\"\n",
    "    \n",
    "    for gene in df.gene.unique():\n",
    "        percent= df[df.gene == gene].percent_covered.mean()\n",
    "        cover[\"gene\"].append(gene)\n",
    "        cover[\"percent_covered\"].append(round(percent * 100, 2))\n",
    "\n",
    "    df = pd.DataFrame(cover).sort_values(by=\"percent_covered\", ascending=False) \\\n",
    "    .reset_index() \\\n",
    "    .drop(\"index\", axis=1)\n",
    "    \n",
    "    return df\n",
    "\n",
    "filename = \"bedtools_coverage\"\n",
    "names = [\"chr\", \"start\", \"end\", \"gene\", \"to_drop\", \"starnd\", \"n_reads\", \n",
    "         \"n_bases_covered\", \"length_of_gene_fragment\", \"percent_covered\"]\n",
    "cover = {\"gene\": [],\n",
    "         \"percent_covered\": []}\n",
    "\n",
    "\n",
    "\n",
    "df2 = pd.read_csv(filename, sep=\"\\t\", names=names).drop(\"to_drop\", axis=1)\n",
    "\n",
    "df2 = get_breadth_coverage(df2)\n",
    "\n",
    "df2.head()\n",
    "\n",
    "\n"
   ]
  }
 ],
 "metadata": {
  "kernelspec": {
   "display_name": "Python 3",
   "language": "python",
   "name": "python3"
  },
  "language_info": {
   "codemirror_mode": {
    "name": "ipython",
    "version": 3
   },
   "file_extension": ".py",
   "mimetype": "text/x-python",
   "name": "python",
   "nbconvert_exporter": "python",
   "pygments_lexer": "ipython3",
   "version": "3.7.5"
  }
 },
 "nbformat": 4,
 "nbformat_minor": 2
}
