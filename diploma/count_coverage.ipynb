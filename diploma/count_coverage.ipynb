{
 "cells": [
  {
   "cell_type": "code",
   "execution_count": 2,
   "outputs": [],
   "source": [
    "def take_genes_from_bed(name_of_bed: str):\n",
    "    names = ['chr', 'start', 'stop', 'gene', 'to_drop', 'strand']\n",
    "    df = pd.read_csv(name_of_bed, sep=\"\\t\",\n",
    "                     header=None,\n",
    "                     names=names,\n",
    "                     skiprows=1)\n",
    "\n",
    "    df = df.drop('to_drop', axis=1)\n",
    "    return np.unique(df.gene.values)"
   ],
   "metadata": {
    "collapsed": false,
    "pycharm": {
     "name": "#%% \n",
     "is_executing": false
    }
   }
  },
  {
   "cell_type": "code",
   "execution_count": 3,
   "metadata": {
    "collapsed": true,
    "pycharm": {
     "is_executing": false
    }
   },
   "outputs": [],
   "source": [
    "import pandas as pd\n",
    "import numpy as np"
   ]
  },
  {
   "cell_type": "code",
   "execution_count": 4,
   "outputs": [],
   "source": [
    "names = ['chr', 'position', 'coverage']\n",
    "names2 = ['chr', 'start', 'stop', 'gene', 'to_drop', 'strand']\n",
    "name_of_bed = 'DHS-003Z.primers-150bp.bed'\n",
    "\n",
    "df = pd.read_csv('samtools_depth', sep=\"\\t\", names=names)\n",
    "df2 = pd.read_csv(name_of_bed, sep=\"\\t\",\n",
    "                     header=None,\n",
    "                     names=names2,\n",
    "                     skiprows=1)\n",
    "\n",
    "df2 = df2.drop('to_drop', axis=1)"
   ],
   "metadata": {
    "collapsed": false,
    "pycharm": {
     "name": "#%%\n",
     "is_executing": false
    }
   }
  },
  {
   "cell_type": "code",
   "execution_count": 30,
   "outputs": [
    {
     "traceback": [
      "\u001b[0;31m---------------------------------------------------------------------------\u001b[0m",
      "\u001b[0;31mValueError\u001b[0m                                Traceback (most recent call last)",
      "\u001b[0;32m<ipython-input-30-122606b219d0>\u001b[0m in \u001b[0;36m<module>\u001b[0;34m\u001b[0m\n\u001b[0;32m----> 1\u001b[0;31m \u001b[0mnp\u001b[0m\u001b[0;34m.\u001b[0m\u001b[0mdiff\u001b[0m\u001b[0;34m(\u001b[0m\u001b[0mtake_genes_from_bed\u001b[0m\u001b[0;34m(\u001b[0m\u001b[0mname_of_bed\u001b[0m\u001b[0;34m)\u001b[0m\u001b[0;34m,\u001b[0m \u001b[0mnp\u001b[0m\u001b[0;34m.\u001b[0m\u001b[0munique\u001b[0m\u001b[0;34m(\u001b[0m\u001b[0mdf\u001b[0m\u001b[0;34m.\u001b[0m\u001b[0mgene\u001b[0m\u001b[0;34m.\u001b[0m\u001b[0mvalues\u001b[0m\u001b[0;34m)\u001b[0m\u001b[0;34m)\u001b[0m\u001b[0;34m\u001b[0m\u001b[0;34m\u001b[0m\u001b[0m\n\u001b[0m\u001b[1;32m      2\u001b[0m \u001b[0;34m\u001b[0m\u001b[0m\n",
      "\u001b[0;32m<__array_function__ internals>\u001b[0m in \u001b[0;36mdiff\u001b[0;34m(*args, **kwargs)\u001b[0m\n",
      "\u001b[0;32m~/github/python_developer/diploma/venv/lib/python3.7/site-packages/numpy/lib/function_base.py\u001b[0m in \u001b[0;36mdiff\u001b[0;34m(a, n, axis, prepend, append)\u001b[0m\n\u001b[1;32m   1224\u001b[0m \u001b[0;34m\u001b[0m\u001b[0m\n\u001b[1;32m   1225\u001b[0m     \"\"\"\n\u001b[0;32m-> 1226\u001b[0;31m     \u001b[0;32mif\u001b[0m \u001b[0mn\u001b[0m \u001b[0;34m==\u001b[0m \u001b[0;36m0\u001b[0m\u001b[0;34m:\u001b[0m\u001b[0;34m\u001b[0m\u001b[0;34m\u001b[0m\u001b[0m\n\u001b[0m\u001b[1;32m   1227\u001b[0m         \u001b[0;32mreturn\u001b[0m \u001b[0ma\u001b[0m\u001b[0;34m\u001b[0m\u001b[0;34m\u001b[0m\u001b[0m\n\u001b[1;32m   1228\u001b[0m     \u001b[0;32mif\u001b[0m \u001b[0mn\u001b[0m \u001b[0;34m<\u001b[0m \u001b[0;36m0\u001b[0m\u001b[0;34m:\u001b[0m\u001b[0;34m\u001b[0m\u001b[0;34m\u001b[0m\u001b[0m\n",
      "\u001b[0;31mValueError\u001b[0m: The truth value of an array with more than one element is ambiguous. Use a.any() or a.all()"
     ],
     "ename": "ValueError",
     "evalue": "The truth value of an array with more than one element is ambiguous. Use a.any() or a.all()",
     "output_type": "error"
    }
   ],
   "source": [
    "np.diff(take_genes_from_bed(name_of_bed), np.unique(df.gene.values))"
   ],
   "metadata": {
    "collapsed": false,
    "pycharm": {
     "name": "#%%\n",
     "is_executing": false
    }
   }
  },
  {
   "cell_type": "code",
   "execution_count": 10,
   "outputs": [
    {
     "data": {
      "text/plain": "    chr  position  coverage     gene\n0  chr1  12918806         0  PRAMEF2\n1  chr1  12918807         0  PRAMEF2\n2  chr1  12918808         0  PRAMEF2\n3  chr1  12918809         0  PRAMEF2\n4  chr1  12918810         0  PRAMEF2",
      "text/html": "<div>\n<style scoped>\n    .dataframe tbody tr th:only-of-type {\n        vertical-align: middle;\n    }\n\n    .dataframe tbody tr th {\n        vertical-align: top;\n    }\n\n    .dataframe thead th {\n        text-align: right;\n    }\n</style>\n<table border=\"1\" class=\"dataframe\">\n  <thead>\n    <tr style=\"text-align: right;\">\n      <th></th>\n      <th>chr</th>\n      <th>position</th>\n      <th>coverage</th>\n      <th>gene</th>\n    </tr>\n  </thead>\n  <tbody>\n    <tr>\n      <th>0</th>\n      <td>chr1</td>\n      <td>12918806</td>\n      <td>0</td>\n      <td>PRAMEF2</td>\n    </tr>\n    <tr>\n      <th>1</th>\n      <td>chr1</td>\n      <td>12918807</td>\n      <td>0</td>\n      <td>PRAMEF2</td>\n    </tr>\n    <tr>\n      <th>2</th>\n      <td>chr1</td>\n      <td>12918808</td>\n      <td>0</td>\n      <td>PRAMEF2</td>\n    </tr>\n    <tr>\n      <th>3</th>\n      <td>chr1</td>\n      <td>12918809</td>\n      <td>0</td>\n      <td>PRAMEF2</td>\n    </tr>\n    <tr>\n      <th>4</th>\n      <td>chr1</td>\n      <td>12918810</td>\n      <td>0</td>\n      <td>PRAMEF2</td>\n    </tr>\n  </tbody>\n</table>\n</div>"
     },
     "metadata": {},
     "output_type": "execute_result",
     "execution_count": 10
    }
   ],
   "source": [
    "df.head()"
   ],
   "metadata": {
    "collapsed": false,
    "pycharm": {
     "name": "#%%\n",
     "is_executing": false
    }
   }
  },
  {
   "cell_type": "code",
   "execution_count": 6,
   "outputs": [
    {
     "name": "stdout",
     "text": [
      "{'ABL1': (133589700, 133760909), 'ADA': (43248392, 43280253), 'ANKRD26': (27283962, 27389286), 'ASXL1': (30946469, 31025251), 'ASXL2': (25964891, 26101127), 'ATM': (108098348, 108236239), 'ATRX': (76763984, 77041554), 'BCL6': (187440239, 187451505), 'BCOR': (39911348, 39937202), 'BCORL1': (129139153, 129190198), 'BCR': (23523099, 23657725), 'BIRC3': (102195341, 102207746), 'BLM': (91290617, 91358514), 'BRAF': (140415740, 140624529), 'BRCA1': (41197629, 41276132), 'BRCA2': (32890548, 32972912), 'C17orf97': (260055, 263968), 'CALR': (13049435, 13054590), 'CARD11': (2946335, 2998223), 'CBL': (119077207, 119170510), 'CBLB': (105377808, 105588286), 'CBLC': (45281141, 45303733), 'CDKN2A': (21968219, 21994412), 'CEBPA': (33792227, 33793324), 'CHEK2': (29083889, 29130731), 'CREBBP': (3777689, 3929917), 'CRLF2': (1314863, 1331555), 'CSF1R': (149433540, 149466038), 'CSF3R': (36931670, 36945107), 'CTCF': (67644711, 67671811), 'CUX1': (101459304, 101926433), 'DAXX': (33286488, 33290742), 'DDX41': (176938872, 176944002), 'DNM2': (10828949, 10943094), 'DNMT1': (10244277, 10305701), 'DNMT3A': (25457175, 25536910), 'EED': (85956276, 85989573), 'EGFR': (55086943, 55273315), 'ELANE': (852275, 856092), 'EP300': (41488995, 41575036), 'ETNK1': (22778003, 22837947), 'ETV6': (11803054, 12043995), 'EZH2': (148504770, 148547624), 'FAM154B': (82555237, 82575415), 'FAM47A': (34147937, 34150414), 'FAM5C': (190067133, 190424032), 'FAS': (90750625, 90774219), 'FBXW7': (153244022, 153332970), 'FLRT2': (86087790, 86089856), 'FLT3': (28578262, 28674724), 'GATA1': (48649505, 48652585), 'GATA2': (128199856, 128205907), 'GJB3': (35250343, 35251242), 'GNAS': (57415164, 57485841), 'HNRNPK': (86584199, 86593190), 'HRAS': (532582, 534306), 'IDH1': (209101790, 209116289), 'IDH2': (90627550, 90645627), 'IKZF1': (50358650, 50468416), 'IKZF3': (37922028, 38020448), 'IL7R': (35857067, 35876594), 'JAK1': (65300225, 65352016), 'JAK2': (5022101, 5126796), 'JAK3': (17937537, 17958928), 'KAT6A': (41789681, 41906501), 'KCNA4': (30032251, 30034230), 'KCNK13': (90528611, 90651377), 'KDM6A': (44732787, 44970663), 'KDR': (55946122, 55991508), 'KIT': (55524145, 55604728), 'KLHDC8B': (49210168, 49213279), 'KLHL6': (183209753, 183273382), 'KMT2A': (118307220, 118392895), 'KMT2C': (151833880, 152132767), 'KRAS': (25362712, 25398362), 'LRRC4': (127668684, 127670726), 'LUC7L2': (139044935, 139107000), 'MAP2K1': (66679674, 66782972), 'MLH1': (37035022, 37092195), 'MPL': (43803491, 43818488), 'MSH2': (47630402, 47739608), 'MSH6': (48010332, 48034016), 'MYC': (128748795, 128753214), 'MYD88': (38180101, 38182730), 'NBN': (90947772, 90996851), 'NF1': (29422247, 29701136), 'NOTCH1': (139390533, 139440272), 'NPAT': (108029635, 108093279), 'NPM1': (170814907, 170837592), 'NRAS': (115251162, 115258798), 'NSD1': (176562182, 176722465), 'NTRK3': (88420242, 88799393), 'OR13H1': (130678041, 130678979), 'OR8B12': (124412599, 124413588), 'P2RY2': (72945244, 72946355), 'PAX5': (36840520, 37034034), 'PCDHB1': (140431128, 140433505), 'PDGFRA': (55124915, 55161403), 'PHF6': (133511639, 133559368), 'PML': (74287146, 74337358), 'PMS2': (6017255, 6048708), 'PRAMEF2': (12918805, 12921697), 'PRF1': (72357798, 72360537), 'PRPF40B': (50017330, 50038053), 'PRPF8': (1554131, 1587898), 'PTEN': (89624209, 89725235), 'PTPN11': (112856863, 112942597), 'RAD21': (117859788, 117878933), 'RB1': (48877968, 49054240), 'RELN': (103113280, 103629830), 'RUNX1': (36164390, 36421236), 'SETBP1': (42281306, 42643691), 'SF1': (64532854, 64545911), 'SF3A1': (30730588, 30752791), 'SF3B1': (198257080, 198299751), 'SH2B3': (111855923, 111886165), 'SH2D1A': (123480527, 123505302), 'SMARCB1': (24129294, 24176394), 'SMC1A': (53406977, 53449510), 'SMC3': (112327497, 112364085), 'SRP72': (57333439, 57368049), 'SRSF2': (74732237, 74733238), 'STAG2': (123156466, 123234471), 'STAT3': (40467717, 40540596), 'STXBP2': (7702013, 7712721), 'SUZ12': (30264215, 30326036), 'TAL1': (47685315, 47691657), 'TERC': (169482367, 169482863), 'TERT': (1253820, 1295329), 'TET2': (106155067, 106197692), 'TNFRSF13B': (16842934, 16875404), 'TP53': (7572936, 7579879), 'TPMT': (18130838, 18149373), 'TUBA3C': (19747914, 19755916), 'U2AF1': (44513199, 44527623), 'U2AF2': (56166379, 56185405), 'WAS': (48542348, 48549605), 'WRN': (30915888, 31030659), 'WT1': (32410598, 32456904), 'XPO1': (61705924, 61761055), 'ZRSR2': (15808569, 15841403)}\n"
     ],
     "output_type": "stream"
    }
   ],
   "source": [
    "genes_bound = dict()\n",
    "for gene in take_genes_from_bed(name_of_bed):\n",
    "    df3 = df2[df2['gene'] == gene]\n",
    "    genes_bound[gene] = (df3.iloc[0]['start'],\n",
    "                         df3.iloc[len(df3)-1]['stop'])\n",
    "print(genes_bound)\n",
    "\n",
    "    "
   ],
   "metadata": {
    "collapsed": false,
    "pycharm": {
     "name": "#%%\n",
     "is_executing": false
    }
   }
  },
  {
   "cell_type": "code",
   "execution_count": 37,
   "outputs": [],
   "source": [
    "def add_gene_name(df_to_add, df_from_add): # TODO OPTIMIZE\n",
    "    genes = np.array(['0' * 10 for i in range(len(df_to_add))])\n",
    "    for pos in range(len(df_to_add)):\n",
    "        for index, row in df_from_add.iterrows():\n",
    "            if (row['start'] + 1 <= df_to_add.position[pos] <= row['stop']) and\\\n",
    "                    (df_to_add.chr[pos] == row['chr']):\n",
    "                genes[pos] = row['gene']\n",
    "                break\n",
    "    return genes "
   ],
   "metadata": {
    "collapsed": false,
    "pycharm": {
     "name": "#%%\n",
     "is_executing": false
    }
   }
  },
  {
   "cell_type": "code",
   "execution_count": 7,
   "outputs": [],
   "source": [
    "                                                                \n",
    "def add_gene_name_optimized(df_to_add, df_from_add):            \n",
    "    percents = 0                                                \n",
    "    percents_5 = int(len(df_to_add) * 0.05)                     \n",
    "    genes = np.array(['0' * 10 for i in range(len(df_to_add))]) \n",
    "    for index, row in df_to_add.iterrows():                     \n",
    "        if index % percents_5 == 0:                             \n",
    "            print('{} % have done..'.format(percents))          \n",
    "            percents += 5                                       \n",
    "        for gene, bounds in genes_bound.items():                \n",
    "            if bounds[0] <= row['position'] + 1 <= bounds[1]+ 1):    \n",
    "                genes[index] = gene\n",
    "                break\n",
    "            \n",
    "    print(\"number of genes: {}\".format(len(np.unique(genes))))  \n",
    "    return genes"
   ],
   "metadata": {
    "collapsed": false,
    "pycharm": {
     "name": "#%%\n",
     "is_executing": false
    }
   }
  },
  {
   "cell_type": "code",
   "execution_count": 8,
   "outputs": [
    {
     "name": "stdout",
     "text": [
      "Hello\n",
      "0 % have done..\n",
      "5 % have done..\n",
      "10 % have done..\n",
      "15 % have done..\n",
      "20 % have done..\n",
      "25 % have done..\n",
      "30 % have done..\n",
      "35 % have done..\n",
      "40 % have done..\n",
      "45 % have done..\n",
      "50 % have done..\n",
      "55 % have done..\n",
      "60 % have done..\n",
      "65 % have done..\n",
      "70 % have done..\n",
      "75 % have done..\n",
      "80 % have done..\n",
      "85 % have done..\n",
      "90 % have done..\n",
      "95 % have done..\n",
      "100 % have done..\n",
      "number of genes: 138\n",
      "Good Bye\n"
     ],
     "output_type": "stream"
    }
   ],
   "source": [
    "print('Hello')\n",
    "genes = add_gene_name_optimized(df, df2)\n",
    "df['gene'] = genes\n",
    "print('Good Bye')"
   ],
   "metadata": {
    "collapsed": false,
    "pycharm": {
     "name": "#%%\n",
     "is_executing": false
    }
   }
  },
  {
   "cell_type": "code",
   "execution_count": 9,
   "outputs": [
    {
     "data": {
      "text/plain": "         chr   position  coverage        gene\n15013   chr1  115251146         0  0000000000\n15014   chr1  115251147         0  0000000000\n15015   chr1  115251148         0  0000000000\n15016   chr1  115251149         0  0000000000\n15017   chr1  115251150         0  0000000000\n...      ...        ...       ...         ...\n520823  chrX  123480521         0  0000000000\n520824  chrX  123480522         0  0000000000\n520825  chrX  123480523         0  0000000000\n520826  chrX  123480524         0  0000000000\n520827  chrX  123480525         0  0000000000\n\n[4638 rows x 4 columns]",
      "text/html": "<div>\n<style scoped>\n    .dataframe tbody tr th:only-of-type {\n        vertical-align: middle;\n    }\n\n    .dataframe tbody tr th {\n        vertical-align: top;\n    }\n\n    .dataframe thead th {\n        text-align: right;\n    }\n</style>\n<table border=\"1\" class=\"dataframe\">\n  <thead>\n    <tr style=\"text-align: right;\">\n      <th></th>\n      <th>chr</th>\n      <th>position</th>\n      <th>coverage</th>\n      <th>gene</th>\n    </tr>\n  </thead>\n  <tbody>\n    <tr>\n      <th>15013</th>\n      <td>chr1</td>\n      <td>115251146</td>\n      <td>0</td>\n      <td>0000000000</td>\n    </tr>\n    <tr>\n      <th>15014</th>\n      <td>chr1</td>\n      <td>115251147</td>\n      <td>0</td>\n      <td>0000000000</td>\n    </tr>\n    <tr>\n      <th>15015</th>\n      <td>chr1</td>\n      <td>115251148</td>\n      <td>0</td>\n      <td>0000000000</td>\n    </tr>\n    <tr>\n      <th>15016</th>\n      <td>chr1</td>\n      <td>115251149</td>\n      <td>0</td>\n      <td>0000000000</td>\n    </tr>\n    <tr>\n      <th>15017</th>\n      <td>chr1</td>\n      <td>115251150</td>\n      <td>0</td>\n      <td>0000000000</td>\n    </tr>\n    <tr>\n      <th>...</th>\n      <td>...</td>\n      <td>...</td>\n      <td>...</td>\n      <td>...</td>\n    </tr>\n    <tr>\n      <th>520823</th>\n      <td>chrX</td>\n      <td>123480521</td>\n      <td>0</td>\n      <td>0000000000</td>\n    </tr>\n    <tr>\n      <th>520824</th>\n      <td>chrX</td>\n      <td>123480522</td>\n      <td>0</td>\n      <td>0000000000</td>\n    </tr>\n    <tr>\n      <th>520825</th>\n      <td>chrX</td>\n      <td>123480523</td>\n      <td>0</td>\n      <td>0000000000</td>\n    </tr>\n    <tr>\n      <th>520826</th>\n      <td>chrX</td>\n      <td>123480524</td>\n      <td>0</td>\n      <td>0000000000</td>\n    </tr>\n    <tr>\n      <th>520827</th>\n      <td>chrX</td>\n      <td>123480525</td>\n      <td>0</td>\n      <td>0000000000</td>\n    </tr>\n  </tbody>\n</table>\n<p>4638 rows × 4 columns</p>\n</div>"
     },
     "metadata": {},
     "output_type": "execute_result",
     "execution_count": 9
    }
   ],
   "source": [
    "df[df['gene'] == '0000000000']"
   ],
   "metadata": {
    "collapsed": false,
    "pycharm": {
     "name": "#%%\n",
     "is_executing": false
    }
   }
  },
  {
   "cell_type": "code",
   "execution_count": 29,
   "outputs": [
    {
     "data": {
      "text/plain": "Empty DataFrame\nColumns: [chr, start, stop, gene, strand]\nIndex: []",
      "text/html": "<div>\n<style scoped>\n    .dataframe tbody tr th:only-of-type {\n        vertical-align: middle;\n    }\n\n    .dataframe tbody tr th {\n        vertical-align: top;\n    }\n\n    .dataframe thead th {\n        text-align: right;\n    }\n</style>\n<table border=\"1\" class=\"dataframe\">\n  <thead>\n    <tr style=\"text-align: right;\">\n      <th></th>\n      <th>chr</th>\n      <th>start</th>\n      <th>stop</th>\n      <th>gene</th>\n      <th>strand</th>\n    </tr>\n  </thead>\n  <tbody>\n  </tbody>\n</table>\n</div>"
     },
     "metadata": {},
     "output_type": "execute_result",
     "execution_count": 29
    }
   ],
   "source": [
    "df2[df2['start'] == '12921696']\n"
   ],
   "metadata": {
    "collapsed": false,
    "pycharm": {
     "name": "#%%\n",
     "is_executing": false
    }
   }
  }
 ],
 "metadata": {
  "kernelspec": {
   "display_name": "Python 3",
   "language": "python",
   "name": "python3"
  },
  "language_info": {
   "codemirror_mode": {
    "name": "ipython",
    "version": 2
   },
   "file_extension": ".py",
   "mimetype": "text/x-python",
   "name": "python",
   "nbconvert_exporter": "python",
   "pygments_lexer": "ipython2",
   "version": "2.7.6"
  },
  "pycharm": {
   "stem_cell": {
    "cell_type": "raw",
    "source": [],
    "metadata": {
     "collapsed": false
    }
   }
  }
 },
 "nbformat": 4,
 "nbformat_minor": 0
}