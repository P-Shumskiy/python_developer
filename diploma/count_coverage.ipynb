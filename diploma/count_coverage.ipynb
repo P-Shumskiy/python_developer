{
 "cells": [
  {
   "cell_type": "code",
   "execution_count": null,
   "metadata": {
    "pycharm": {
     "name": "#%% \n"
    }
   },
   "outputs": [],
   "source": [
    "def take_genes_from_bed(name_of_bed: str):\n",
    "    names = ['chr', 'start', 'stop', 'gene', 'to_drop', 'strand']\n",
    "    df = pd.read_csv(name_of_bed, sep=\"\\t\",\n",
    "                     header=None,\n",
    "                     names=names,\n",
    "                     skiprows=1)\n",
    "\n",
    "    df = df.drop('to_drop', axis=1)\n",
    "    return np.unique(df.gene.values)"
   ]
  },
  {
   "cell_type": "code",
   "execution_count": null,
   "metadata": {
    "pycharm": {
     "name": "#%%\n"
    }
   },
   "outputs": [],
   "source": [
    "import pandas as pd\n",
    "import numpy as np"
   ]
  },
  {
   "cell_type": "code",
   "execution_count": null,
   "metadata": {
    "pycharm": {
     "name": "#%%\n"
    }
   },
   "outputs": [],
   "source": [
    "names = ['chr', 'position', 'coverage']\n",
    "names2 = ['chr', 'start', 'stop', 'gene', 'to_drop', 'strand']\n",
    "\n",
    "name_of_bed = 'DHS-003Z.primers-150bp.bed'\n",
    "\n",
    "depth = pd.read_csv('samtools_depth', sep=\"\\t\", names=names)\n",
    "primers = pd.read_csv(name_of_bed, sep=\"\\t\",\n",
    "                     header=None,\n",
    "                     names=names2,\n",
    "                     skiprows=1)\n",
    "\n",
    "df2 = df2.drop('to_drop', axis=1)"
   ]
  },
  {
   "cell_type": "code",
   "execution_count": null,
   "metadata": {
    "pycharm": {
     "name": "#%%\n"
    }
   },
   "outputs": [],
   "source": [
    "np.diff(take_genes_from_bed(name_of_bed), np.unique(df.gene.values))"
   ]
  },
  {
   "cell_type": "code",
   "execution_count": null,
   "metadata": {
    "pycharm": {
     "name": "#%%\n"
    }
   },
   "outputs": [],
   "source": [
    "df.head()"
   ]
  },
  {
   "cell_type": "code",
   "execution_count": null,
   "metadata": {
    "pycharm": {
     "name": "#%%\n"
    }
   },
   "outputs": [],
   "source": [
    "genes_bound = dict()\n",
    "for gene in take_genes_from_bed(name_of_bed):\n",
    "    df3 = df2[df2['gene'] == gene]\n",
    "    genes_bound[gene] = (df3.iloc[0]['start'],\n",
    "                         df3.iloc[len(df3)-1]['stop'])\n",
    "print(genes_bound)\n",
    "\n",
    "    "
   ]
  },
  {
   "cell_type": "code",
   "execution_count": null,
   "metadata": {
    "pycharm": {
     "name": "#%%\n"
    }
   },
   "outputs": [],
   "source": [
    "def add_gene_name(df_to_add, df_from_add): # TODO OPTIMIZE\n",
    "    genes = np.array(['0' * 10 for i in range(len(df_to_add))])\n",
    "    for pos in range(len(df_to_add)):\n",
    "        for index, row in df_from_add.iterrows():\n",
    "            if (row['start'] + 1 <= df_to_add.position[pos] <= row['stop']) and\\\n",
    "                    (df_to_add.chr[pos] == row['chr']):\n",
    "                genes[pos] = row['gene']b\n",
    "                break\n",
    "    return genes "
   ]
  },
  {
   "cell_type": "code",
   "execution_count": null,
   "metadata": {
    "pycharm": {
     "name": "#%%\n"
    }
   },
   "outputs": [],
   "source": []
  },
  {
   "cell_type": "code",
   "execution_count": null,
   "metadata": {
    "pycharm": {
     "name": "#%%\n"
    }
   },
   "outputs": [],
   "source": [
    "import pandas as pd\n",
    "import numpy as np"
   ]
  },
  {
   "cell_type": "code",
   "execution_count": null,
   "metadata": {
    "pycharm": {
     "name": "#%%\n"
    }
   },
   "outputs": [],
   "source": []
  },
  {
   "cell_type": "code",
   "execution_count": null,
   "metadata": {
    "pycharm": {
     "name": "#%%\n"
    }
   },
   "outputs": [],
   "source": [
    "file_name = 'samtools_output2'\n",
    "names = [\"chr\", \"start\", \"end\", \"gene\", \"to_drop\", \"strand\", \"depth\"]\n",
    "df = pd.read_csv(file_name, sep=\"\\t\", names=names).drop(\"to_drop\", axis=1)"
   ]
  },
  {
   "cell_type": "code",
   "execution_count": null,
   "metadata": {
    "pycharm": {
     "name": "#%%\n"
    }
   },
   "outputs": [],
   "source": [
    "df.head()"
   ]
  },
  {
   "cell_type": "code",
   "execution_count": null,
   "metadata": {
    "pycharm": {
     "name": "#%%\n"
    }
   },
   "outputs": [],
   "source": [
    "# df.depth.sum() / \n",
    "(df.end - df.start).sum()"
   ]
  },
  {
   "cell_type": "code",
   "execution_count": null,
   "metadata": {
    "pycharm": {
     "name": "#%%\n"
    }
   },
   "outputs": [],
   "source": [
    "def genes_depth():\n",
    "    dct = {\"genes\": [], \n",
    "            \"cov\": []}\n",
    "    \n",
    "    for gene in np.unique(df.gene.values):\n",
    "        dct[\"genes\"].append(gene)\n",
    "        dct[\"cov\"].append(df[df.gene == gene].depth.sum() / \n",
    "                        (df[df.gene == gene].end - df[df.gene == gene].start).sum())\n",
    "        \n",
    "    return pd.DataFrame(dct)\n",
    "    "
   ]
  },
  {
   "cell_type": "code",
   "execution_count": null,
   "metadata": {
    "pycharm": {
     "name": "#%%\n"
    }
   },
   "outputs": [],
   "source": [
    "df2 = genes_depth()"
   ]
  },
  {
   "cell_type": "code",
   "execution_count": null,
   "metadata": {
    "pycharm": {
     "name": "#%%\n"
    }
   },
   "outputs": [],
   "source": [
    "df2.sort_values('cov', ascending=False)"
   ]
  },
  {
   "cell_type": "code",
   "execution_count": null,
   "metadata": {
    "pycharm": {
     "name": "#%%\n"
    }
   },
   "outputs": [],
   "source": []
  },
  {
   "cell_type": "code",
   "execution_count": null,
   "metadata": {
    "pycharm": {
     "name": "#%%\n"
    }
   },
   "outputs": [],
   "source": []
  },
  {
   "cell_type": "code",
   "execution_count": null,
   "metadata": {
    "pycharm": {
     "name": "#%%\n"
    }
   },
   "outputs": [],
   "source": []
  },
  {
   "cell_type": "code",
   "execution_count": null,
   "metadata": {
    "pycharm": {
     "name": "#%%\n"
    }
   },
   "outputs": [],
   "source": []
  },
  {
   "cell_type": "code",
   "execution_count": null,
   "metadata": {
    "pycharm": {
     "name": "#%%\n"
    }
   },
   "outputs": [],
   "source": []
  },
  {
   "cell_type": "code",
   "execution_count": null,
   "metadata": {
    "pycharm": {
     "name": "#%%\n"
    }
   },
   "outputs": [],
   "source": []
  },
  {
   "cell_type": "code",
   "execution_count": null,
   "metadata": {
    "pycharm": {
     "name": "#%%\n"
    }
   },
   "outputs": [],
   "source": []
  },
  {
   "cell_type": "code",
   "execution_count": null,
   "metadata": {
    "pycharm": {
     "name": "#%%\n"
    }
   },
   "outputs": [],
   "source": []
  },
  {
   "cell_type": "code",
   "execution_count": null,
   "metadata": {
    "pycharm": {
     "name": "#%%\n"
    }
   },
   "outputs": [],
   "source": []
  },
  {
   "cell_type": "code",
   "execution_count": null,
   "metadata": {
    "pycharm": {
     "name": "#%%\n"
    }
   },
   "outputs": [],
   "source": []
  },
  {
   "cell_type": "code",
   "execution_count": null,
   "metadata": {
    "pycharm": {
     "name": "#%%\n"
    }
   },
   "outputs": [],
   "source": []
  },
  {
   "cell_type": "code",
   "execution_count": null,
   "metadata": {
    "pycharm": {
     "name": "#%%\n"
    }
   },
   "outputs": [],
   "source": [
    "import pandas as pd\n",
    "import numpy as np"
   ]
  },
  {
   "cell_type": "code",
   "execution_count": null,
   "metadata": {
    "pycharm": {
     "name": "#%%\n"
    }
   },
   "outputs": [],
   "source": []
  },
  {
   "cell_type": "code",
   "execution_count": 116,
   "metadata": {
    "pycharm": {
     "name": "#%%\n"
    }
   },
   "outputs": [],
   "source": [
    "file_name = 'samtools_output2'\n",
    "names = [\"chr\", \"start\", \"end\", \"gene\", \"to_drop\", \"strand\", \"depth\"]\n",
    "df = pd.read_csv(file_name, sep=\"\\t\", names=names).drop(\"to_drop\", axis=1)"
   ]
  },
  {
   "cell_type": "code",
   "execution_count": null,
   "metadata": {
    "pycharm": {
     "name": "#%%\n"
    }
   },
   "outputs": [],
   "source": [
    "df.head()"
   ]
  },
  {
   "cell_type": "code",
   "execution_count": null,
   "metadata": {
    "pycharm": {
     "name": "#%%\n"
    }
   },
   "outputs": [],
   "source": [
    "# df.depth.sum() / \n",
    "(df.end - df.start).sum()"
   ]
  },
  {
   "cell_type": "code",
   "execution_count": null,
   "metadata": {
    "pycharm": {
     "name": "#%%\n"
    }
   },
   "outputs": [],
   "source": [
    "def genes_depth(df):\n",
    "    dct = {\"gene\": [], \n",
    "            \"mean_cov_depth_X\": []}\n",
    "    \n",
    "    for gene in np.unique(df.gene.values):\n",
    "        dct[\"gene\"].append(gene)\n",
    "        dct[\"mean_cov_depth_X\"].append(df[df.gene == gene].depth.sum() / \n",
    "                        (df[df.gene == gene].end - df[df.gene == gene].start).sum())\n",
    "    \n",
    "    result = pd.DataFrame(dct)\n",
    "    \n",
    "    result = result.sort_values('mean_cov_depth_X', ascending=False) \\\n",
    "    .reset_index() \\\n",
    "    .drop('index', axis=1)\n",
    "    \n",
    "    result[\"mean_cov_depth_X\"] = result[\"mean_cov_depth_X\"].apply(round)\n",
    "    \n",
    "#     result['mean_cov_depth_X'] = df['mean_cov_depth_X'].apply(round)\n",
    "    \n",
    "    return result\n",
    "    "
   ]
  },
  {
   "cell_type": "code",
   "execution_count": null,
   "metadata": {
    "pycharm": {
     "name": "#%%\n"
    }
   },
   "outputs": [],
   "source": [
    "df2 = genes_depth(df)"
   ]
  },
  {
   "cell_type": "code",
   "execution_count": null,
   "metadata": {
    "pycharm": {
     "name": "#%%\n"
    }
   },
   "outputs": [],
   "source": [
    "df2"
   ]
  },
  {
   "cell_type": "code",
   "execution_count": null,
   "metadata": {
    "pycharm": {
     "name": "#%%\n"
    }
   },
   "outputs": [],
   "source": [
    "df2 = df2.sort_values('cov', ascending=False).reset_index().drop('index', axis=1)"
   ]
  },
  {
   "cell_type": "code",
   "execution_count": null,
   "metadata": {
    "pycharm": {
     "name": "#%%\n"
    }
   },
   "outputs": [],
   "source": [
    "df2['cov'] = df2['cov'].apply(round)"
   ]
  },
  {
   "cell_type": "code",
   "execution_count": null,
   "metadata": {
    "pycharm": {
     "name": "#%%\n"
    }
   },
   "outputs": [],
   "source": [
    "df2.rename({\"cov\": \"mean_cov_depth_X\"}, axis=1)"
   ]
  },
  {
   "cell_type": "code",
   "execution_count": 114,
   "metadata": {
    "pycharm": {
     "name": "#%%\n"
    }
   },
   "outputs": [],
   "source": [
    "import io\n",
    "import subprocess\n",
    "import pandas as pd\n",
    "import numpy as np\n",
    "import tempfile\n",
    "\n",
    "\n",
    "\n",
    "def depth_calculation_in_target_regions(target_regions: str = target_regions_,\n",
    "                                        patient: str = patient_) -> pd.DataFrame:\n",
    "    command = f\"samtools bedcov {target_regions} {patient}\".strip().split(' ')\n",
    "    temp_file = tempfile.NamedTemporaryFile()\n",
    "\n",
    "    samtools_bedcov = subprocess.run(command, stdout=subprocess.PIPE, stderr=subprocess.PIPE, encoding=\"utf-8\")\n",
    "\n",
    "    with open(temp_file.name, 'w')as temp:\n",
    "        temp.write(samtools_bedcov.stdout)\n",
    "\n",
    "    if not samtools_bedcov.stderr:\n",
    "        names = [\"chr\", \"start\", \"end\", \"gene\", \"to_drop\", \"strand\", \"depth\"]\n",
    "        df = pd.read_csv(temp_file, sep=\"\\t\", names=names).drop(\"to_drop\", axis=1)\n",
    "\n",
    "        return df\n",
    "\n",
    "    raise PipelineError(f\"an error occurred during the\\n >>>> {' '.join(command)} <<<<\\nERROR from {samtools_bedcov.stderr}\")\n",
    "\n",
    "\n",
    "\n",
    "df2 = depth_calculation_in_target_regions()"
   ]
  },
  {
   "cell_type": "code",
   "execution_count": 119,
   "metadata": {},
   "outputs": [
    {
     "data": {
      "text/html": [
       "<div>\n",
       "<style scoped>\n",
       "    .dataframe tbody tr th:only-of-type {\n",
       "        vertical-align: middle;\n",
       "    }\n",
       "\n",
       "    .dataframe tbody tr th {\n",
       "        vertical-align: top;\n",
       "    }\n",
       "\n",
       "    .dataframe thead th {\n",
       "        text-align: right;\n",
       "    }\n",
       "</style>\n",
       "<table border=\"1\" class=\"dataframe\">\n",
       "  <thead>\n",
       "    <tr style=\"text-align: right;\">\n",
       "      <th></th>\n",
       "      <th>chr</th>\n",
       "      <th>start</th>\n",
       "      <th>end</th>\n",
       "      <th>gene</th>\n",
       "      <th>strand</th>\n",
       "      <th>depth</th>\n",
       "    </tr>\n",
       "  </thead>\n",
       "  <tbody>\n",
       "    <tr>\n",
       "      <th>0</th>\n",
       "      <td>chr1</td>\n",
       "      <td>12918805</td>\n",
       "      <td>12918926</td>\n",
       "      <td>PRAMEF2</td>\n",
       "      <td>+</td>\n",
       "      <td>0</td>\n",
       "    </tr>\n",
       "    <tr>\n",
       "      <th>1</th>\n",
       "      <td>chr1</td>\n",
       "      <td>12918861</td>\n",
       "      <td>12918973</td>\n",
       "      <td>PRAMEF2</td>\n",
       "      <td>+</td>\n",
       "      <td>0</td>\n",
       "    </tr>\n",
       "    <tr>\n",
       "      <th>2</th>\n",
       "      <td>chr1</td>\n",
       "      <td>12918942</td>\n",
       "      <td>12919066</td>\n",
       "      <td>PRAMEF2</td>\n",
       "      <td>+</td>\n",
       "      <td>0</td>\n",
       "    </tr>\n",
       "    <tr>\n",
       "      <th>3</th>\n",
       "      <td>chr1</td>\n",
       "      <td>12918987</td>\n",
       "      <td>12919110</td>\n",
       "      <td>PRAMEF2</td>\n",
       "      <td>+</td>\n",
       "      <td>0</td>\n",
       "    </tr>\n",
       "    <tr>\n",
       "      <th>4</th>\n",
       "      <td>chr1</td>\n",
       "      <td>12919089</td>\n",
       "      <td>12919215</td>\n",
       "      <td>PRAMEF2</td>\n",
       "      <td>-</td>\n",
       "      <td>0</td>\n",
       "    </tr>\n",
       "    <tr>\n",
       "      <th>5</th>\n",
       "      <td>chr1</td>\n",
       "      <td>12919534</td>\n",
       "      <td>12919661</td>\n",
       "      <td>PRAMEF2</td>\n",
       "      <td>-</td>\n",
       "      <td>0</td>\n",
       "    </tr>\n",
       "    <tr>\n",
       "      <th>6</th>\n",
       "      <td>chr1</td>\n",
       "      <td>12919840</td>\n",
       "      <td>12919952</td>\n",
       "      <td>PRAMEF2</td>\n",
       "      <td>+</td>\n",
       "      <td>0</td>\n",
       "    </tr>\n",
       "    <tr>\n",
       "      <th>7</th>\n",
       "      <td>chr1</td>\n",
       "      <td>12919681</td>\n",
       "      <td>12919798</td>\n",
       "      <td>PRAMEF2</td>\n",
       "      <td>-</td>\n",
       "      <td>0</td>\n",
       "    </tr>\n",
       "    <tr>\n",
       "      <th>8</th>\n",
       "      <td>chr1</td>\n",
       "      <td>12919910</td>\n",
       "      <td>12920033</td>\n",
       "      <td>PRAMEF2</td>\n",
       "      <td>+</td>\n",
       "      <td>0</td>\n",
       "    </tr>\n",
       "    <tr>\n",
       "      <th>9</th>\n",
       "      <td>chr1</td>\n",
       "      <td>12919755</td>\n",
       "      <td>12919873</td>\n",
       "      <td>PRAMEF2</td>\n",
       "      <td>-</td>\n",
       "      <td>0</td>\n",
       "    </tr>\n",
       "    <tr>\n",
       "      <th>10</th>\n",
       "      <td>chr1</td>\n",
       "      <td>12919877</td>\n",
       "      <td>12919995</td>\n",
       "      <td>PRAMEF2</td>\n",
       "      <td>-</td>\n",
       "      <td>0</td>\n",
       "    </tr>\n",
       "    <tr>\n",
       "      <th>11</th>\n",
       "      <td>chr1</td>\n",
       "      <td>12920011</td>\n",
       "      <td>12920132</td>\n",
       "      <td>PRAMEF2</td>\n",
       "      <td>-</td>\n",
       "      <td>0</td>\n",
       "    </tr>\n",
       "    <tr>\n",
       "      <th>12</th>\n",
       "      <td>chr1</td>\n",
       "      <td>12921029</td>\n",
       "      <td>12921152</td>\n",
       "      <td>PRAMEF2</td>\n",
       "      <td>-</td>\n",
       "      <td>0</td>\n",
       "    </tr>\n",
       "    <tr>\n",
       "      <th>13</th>\n",
       "      <td>chr1</td>\n",
       "      <td>12921263</td>\n",
       "      <td>12921384</td>\n",
       "      <td>PRAMEF2</td>\n",
       "      <td>+</td>\n",
       "      <td>0</td>\n",
       "    </tr>\n",
       "    <tr>\n",
       "      <th>14</th>\n",
       "      <td>chr1</td>\n",
       "      <td>12921151</td>\n",
       "      <td>12921272</td>\n",
       "      <td>PRAMEF2</td>\n",
       "      <td>-</td>\n",
       "      <td>0</td>\n",
       "    </tr>\n",
       "    <tr>\n",
       "      <th>15</th>\n",
       "      <td>chr1</td>\n",
       "      <td>12921352</td>\n",
       "      <td>12921475</td>\n",
       "      <td>PRAMEF2</td>\n",
       "      <td>-</td>\n",
       "      <td>0</td>\n",
       "    </tr>\n",
       "    <tr>\n",
       "      <th>16</th>\n",
       "      <td>chr1</td>\n",
       "      <td>12921379</td>\n",
       "      <td>12921503</td>\n",
       "      <td>PRAMEF2</td>\n",
       "      <td>-</td>\n",
       "      <td>0</td>\n",
       "    </tr>\n",
       "    <tr>\n",
       "      <th>17</th>\n",
       "      <td>chr1</td>\n",
       "      <td>12921572</td>\n",
       "      <td>12921697</td>\n",
       "      <td>PRAMEF2</td>\n",
       "      <td>+</td>\n",
       "      <td>0</td>\n",
       "    </tr>\n",
       "    <tr>\n",
       "      <th>18</th>\n",
       "      <td>chr1</td>\n",
       "      <td>35250343</td>\n",
       "      <td>35250457</td>\n",
       "      <td>GJB3</td>\n",
       "      <td>+</td>\n",
       "      <td>0</td>\n",
       "    </tr>\n",
       "    <tr>\n",
       "      <th>19</th>\n",
       "      <td>chr1</td>\n",
       "      <td>35250413</td>\n",
       "      <td>35250535</td>\n",
       "      <td>GJB3</td>\n",
       "      <td>+</td>\n",
       "      <td>0</td>\n",
       "    </tr>\n",
       "    <tr>\n",
       "      <th>20</th>\n",
       "      <td>chr1</td>\n",
       "      <td>35250473</td>\n",
       "      <td>35250599</td>\n",
       "      <td>GJB3</td>\n",
       "      <td>+</td>\n",
       "      <td>0</td>\n",
       "    </tr>\n",
       "    <tr>\n",
       "      <th>21</th>\n",
       "      <td>chr1</td>\n",
       "      <td>35250576</td>\n",
       "      <td>35250703</td>\n",
       "      <td>GJB3</td>\n",
       "      <td>-</td>\n",
       "      <td>0</td>\n",
       "    </tr>\n",
       "    <tr>\n",
       "      <th>22</th>\n",
       "      <td>chr1</td>\n",
       "      <td>35250788</td>\n",
       "      <td>35250907</td>\n",
       "      <td>GJB3</td>\n",
       "      <td>+</td>\n",
       "      <td>96</td>\n",
       "    </tr>\n",
       "    <tr>\n",
       "      <th>23</th>\n",
       "      <td>chr1</td>\n",
       "      <td>35250693</td>\n",
       "      <td>35250820</td>\n",
       "      <td>GJB3</td>\n",
       "      <td>-</td>\n",
       "      <td>0</td>\n",
       "    </tr>\n",
       "    <tr>\n",
       "      <th>24</th>\n",
       "      <td>chr1</td>\n",
       "      <td>35250898</td>\n",
       "      <td>35251022</td>\n",
       "      <td>GJB3</td>\n",
       "      <td>+</td>\n",
       "      <td>426</td>\n",
       "    </tr>\n",
       "    <tr>\n",
       "      <th>25</th>\n",
       "      <td>chr1</td>\n",
       "      <td>35250994</td>\n",
       "      <td>35251119</td>\n",
       "      <td>GJB3</td>\n",
       "      <td>-</td>\n",
       "      <td>189</td>\n",
       "    </tr>\n",
       "    <tr>\n",
       "      <th>26</th>\n",
       "      <td>chr1</td>\n",
       "      <td>35251116</td>\n",
       "      <td>35251242</td>\n",
       "      <td>GJB3</td>\n",
       "      <td>-</td>\n",
       "      <td>0</td>\n",
       "    </tr>\n",
       "    <tr>\n",
       "      <th>27</th>\n",
       "      <td>chr1</td>\n",
       "      <td>36931670</td>\n",
       "      <td>36931786</td>\n",
       "      <td>CSF3R</td>\n",
       "      <td>+</td>\n",
       "      <td>0</td>\n",
       "    </tr>\n",
       "    <tr>\n",
       "      <th>28</th>\n",
       "      <td>chr1</td>\n",
       "      <td>36931702</td>\n",
       "      <td>36931813</td>\n",
       "      <td>CSF3R</td>\n",
       "      <td>+</td>\n",
       "      <td>0</td>\n",
       "    </tr>\n",
       "    <tr>\n",
       "      <th>29</th>\n",
       "      <td>chr1</td>\n",
       "      <td>36931905</td>\n",
       "      <td>36932029</td>\n",
       "      <td>CSF3R</td>\n",
       "      <td>-</td>\n",
       "      <td>0</td>\n",
       "    </tr>\n",
       "    <tr>\n",
       "      <th>...</th>\n",
       "      <td>...</td>\n",
       "      <td>...</td>\n",
       "      <td>...</td>\n",
       "      <td>...</td>\n",
       "      <td>...</td>\n",
       "      <td>...</td>\n",
       "    </tr>\n",
       "    <tr>\n",
       "      <th>5857</th>\n",
       "      <td>chrX</td>\n",
       "      <td>129189928</td>\n",
       "      <td>129190051</td>\n",
       "      <td>BCORL1</td>\n",
       "      <td>+</td>\n",
       "      <td>0</td>\n",
       "    </tr>\n",
       "    <tr>\n",
       "      <th>5858</th>\n",
       "      <td>chrX</td>\n",
       "      <td>129189973</td>\n",
       "      <td>129190095</td>\n",
       "      <td>BCORL1</td>\n",
       "      <td>-</td>\n",
       "      <td>0</td>\n",
       "    </tr>\n",
       "    <tr>\n",
       "      <th>5859</th>\n",
       "      <td>chrX</td>\n",
       "      <td>129190081</td>\n",
       "      <td>129190198</td>\n",
       "      <td>BCORL1</td>\n",
       "      <td>-</td>\n",
       "      <td>0</td>\n",
       "    </tr>\n",
       "    <tr>\n",
       "      <th>5860</th>\n",
       "      <td>chrX</td>\n",
       "      <td>130678041</td>\n",
       "      <td>130678156</td>\n",
       "      <td>OR13H1</td>\n",
       "      <td>+</td>\n",
       "      <td>0</td>\n",
       "    </tr>\n",
       "    <tr>\n",
       "      <th>5861</th>\n",
       "      <td>chrX</td>\n",
       "      <td>130678139</td>\n",
       "      <td>130678256</td>\n",
       "      <td>OR13H1</td>\n",
       "      <td>+</td>\n",
       "      <td>0</td>\n",
       "    </tr>\n",
       "    <tr>\n",
       "      <th>5862</th>\n",
       "      <td>chrX</td>\n",
       "      <td>130678247</td>\n",
       "      <td>130678362</td>\n",
       "      <td>OR13H1</td>\n",
       "      <td>+</td>\n",
       "      <td>0</td>\n",
       "    </tr>\n",
       "    <tr>\n",
       "      <th>5863</th>\n",
       "      <td>chrX</td>\n",
       "      <td>130678339</td>\n",
       "      <td>130678460</td>\n",
       "      <td>OR13H1</td>\n",
       "      <td>+</td>\n",
       "      <td>0</td>\n",
       "    </tr>\n",
       "    <tr>\n",
       "      <th>5864</th>\n",
       "      <td>chrX</td>\n",
       "      <td>130678460</td>\n",
       "      <td>130678579</td>\n",
       "      <td>OR13H1</td>\n",
       "      <td>+</td>\n",
       "      <td>0</td>\n",
       "    </tr>\n",
       "    <tr>\n",
       "      <th>5865</th>\n",
       "      <td>chrX</td>\n",
       "      <td>130678577</td>\n",
       "      <td>130678691</td>\n",
       "      <td>OR13H1</td>\n",
       "      <td>-</td>\n",
       "      <td>0</td>\n",
       "    </tr>\n",
       "    <tr>\n",
       "      <th>5866</th>\n",
       "      <td>chrX</td>\n",
       "      <td>130678675</td>\n",
       "      <td>130678789</td>\n",
       "      <td>OR13H1</td>\n",
       "      <td>-</td>\n",
       "      <td>0</td>\n",
       "    </tr>\n",
       "    <tr>\n",
       "      <th>5867</th>\n",
       "      <td>chrX</td>\n",
       "      <td>130678753</td>\n",
       "      <td>130678871</td>\n",
       "      <td>OR13H1</td>\n",
       "      <td>-</td>\n",
       "      <td>0</td>\n",
       "    </tr>\n",
       "    <tr>\n",
       "      <th>5868</th>\n",
       "      <td>chrX</td>\n",
       "      <td>130678865</td>\n",
       "      <td>130678979</td>\n",
       "      <td>OR13H1</td>\n",
       "      <td>-</td>\n",
       "      <td>0</td>\n",
       "    </tr>\n",
       "    <tr>\n",
       "      <th>5869</th>\n",
       "      <td>chrX</td>\n",
       "      <td>133511639</td>\n",
       "      <td>133511753</td>\n",
       "      <td>PHF6</td>\n",
       "      <td>+</td>\n",
       "      <td>0</td>\n",
       "    </tr>\n",
       "    <tr>\n",
       "      <th>5870</th>\n",
       "      <td>chrX</td>\n",
       "      <td>133511688</td>\n",
       "      <td>133511802</td>\n",
       "      <td>PHF6</td>\n",
       "      <td>-</td>\n",
       "      <td>0</td>\n",
       "    </tr>\n",
       "    <tr>\n",
       "      <th>5871</th>\n",
       "      <td>chrX</td>\n",
       "      <td>133512059</td>\n",
       "      <td>133512168</td>\n",
       "      <td>PHF6</td>\n",
       "      <td>+</td>\n",
       "      <td>0</td>\n",
       "    </tr>\n",
       "    <tr>\n",
       "      <th>5872</th>\n",
       "      <td>chrX</td>\n",
       "      <td>133512023</td>\n",
       "      <td>133512134</td>\n",
       "      <td>PHF6</td>\n",
       "      <td>-</td>\n",
       "      <td>0</td>\n",
       "    </tr>\n",
       "    <tr>\n",
       "      <th>5873</th>\n",
       "      <td>chrX</td>\n",
       "      <td>133527566</td>\n",
       "      <td>133527687</td>\n",
       "      <td>PHF6</td>\n",
       "      <td>+</td>\n",
       "      <td>0</td>\n",
       "    </tr>\n",
       "    <tr>\n",
       "      <th>5874</th>\n",
       "      <td>chrX</td>\n",
       "      <td>133527505</td>\n",
       "      <td>133527624</td>\n",
       "      <td>PHF6</td>\n",
       "      <td>-</td>\n",
       "      <td>0</td>\n",
       "    </tr>\n",
       "    <tr>\n",
       "      <th>5875</th>\n",
       "      <td>chrX</td>\n",
       "      <td>133527903</td>\n",
       "      <td>133528012</td>\n",
       "      <td>PHF6</td>\n",
       "      <td>-</td>\n",
       "      <td>0</td>\n",
       "    </tr>\n",
       "    <tr>\n",
       "      <th>5876</th>\n",
       "      <td>chrX</td>\n",
       "      <td>133547575</td>\n",
       "      <td>133547694</td>\n",
       "      <td>PHF6</td>\n",
       "      <td>+</td>\n",
       "      <td>0</td>\n",
       "    </tr>\n",
       "    <tr>\n",
       "      <th>5877</th>\n",
       "      <td>chrX</td>\n",
       "      <td>133547508</td>\n",
       "      <td>133547630</td>\n",
       "      <td>PHF6</td>\n",
       "      <td>-</td>\n",
       "      <td>0</td>\n",
       "    </tr>\n",
       "    <tr>\n",
       "      <th>5878</th>\n",
       "      <td>chrX</td>\n",
       "      <td>133547913</td>\n",
       "      <td>133548035</td>\n",
       "      <td>PHF6</td>\n",
       "      <td>+</td>\n",
       "      <td>0</td>\n",
       "    </tr>\n",
       "    <tr>\n",
       "      <th>5879</th>\n",
       "      <td>chrX</td>\n",
       "      <td>133547816</td>\n",
       "      <td>133547930</td>\n",
       "      <td>PHF6</td>\n",
       "      <td>-</td>\n",
       "      <td>0</td>\n",
       "    </tr>\n",
       "    <tr>\n",
       "      <th>5880</th>\n",
       "      <td>chrX</td>\n",
       "      <td>133549124</td>\n",
       "      <td>133549233</td>\n",
       "      <td>PHF6</td>\n",
       "      <td>+</td>\n",
       "      <td>0</td>\n",
       "    </tr>\n",
       "    <tr>\n",
       "      <th>5881</th>\n",
       "      <td>chrX</td>\n",
       "      <td>133549023</td>\n",
       "      <td>133549132</td>\n",
       "      <td>PHF6</td>\n",
       "      <td>-</td>\n",
       "      <td>0</td>\n",
       "    </tr>\n",
       "    <tr>\n",
       "      <th>5882</th>\n",
       "      <td>chrX</td>\n",
       "      <td>133549191</td>\n",
       "      <td>133549300</td>\n",
       "      <td>PHF6</td>\n",
       "      <td>-</td>\n",
       "      <td>0</td>\n",
       "    </tr>\n",
       "    <tr>\n",
       "      <th>5883</th>\n",
       "      <td>chrX</td>\n",
       "      <td>133551185</td>\n",
       "      <td>133551294</td>\n",
       "      <td>PHF6</td>\n",
       "      <td>-</td>\n",
       "      <td>0</td>\n",
       "    </tr>\n",
       "    <tr>\n",
       "      <th>5884</th>\n",
       "      <td>chrX</td>\n",
       "      <td>133551228</td>\n",
       "      <td>133551339</td>\n",
       "      <td>PHF6</td>\n",
       "      <td>-</td>\n",
       "      <td>0</td>\n",
       "    </tr>\n",
       "    <tr>\n",
       "      <th>5885</th>\n",
       "      <td>chrX</td>\n",
       "      <td>133559220</td>\n",
       "      <td>133559334</td>\n",
       "      <td>PHF6</td>\n",
       "      <td>-</td>\n",
       "      <td>0</td>\n",
       "    </tr>\n",
       "    <tr>\n",
       "      <th>5886</th>\n",
       "      <td>chrX</td>\n",
       "      <td>133559259</td>\n",
       "      <td>133559368</td>\n",
       "      <td>PHF6</td>\n",
       "      <td>-</td>\n",
       "      <td>0</td>\n",
       "    </tr>\n",
       "  </tbody>\n",
       "</table>\n",
       "<p>5887 rows × 6 columns</p>\n",
       "</div>"
      ],
      "text/plain": [
       "       chr      start        end     gene strand  depth\n",
       "0     chr1   12918805   12918926  PRAMEF2      +      0\n",
       "1     chr1   12918861   12918973  PRAMEF2      +      0\n",
       "2     chr1   12918942   12919066  PRAMEF2      +      0\n",
       "3     chr1   12918987   12919110  PRAMEF2      +      0\n",
       "4     chr1   12919089   12919215  PRAMEF2      -      0\n",
       "5     chr1   12919534   12919661  PRAMEF2      -      0\n",
       "6     chr1   12919840   12919952  PRAMEF2      +      0\n",
       "7     chr1   12919681   12919798  PRAMEF2      -      0\n",
       "8     chr1   12919910   12920033  PRAMEF2      +      0\n",
       "9     chr1   12919755   12919873  PRAMEF2      -      0\n",
       "10    chr1   12919877   12919995  PRAMEF2      -      0\n",
       "11    chr1   12920011   12920132  PRAMEF2      -      0\n",
       "12    chr1   12921029   12921152  PRAMEF2      -      0\n",
       "13    chr1   12921263   12921384  PRAMEF2      +      0\n",
       "14    chr1   12921151   12921272  PRAMEF2      -      0\n",
       "15    chr1   12921352   12921475  PRAMEF2      -      0\n",
       "16    chr1   12921379   12921503  PRAMEF2      -      0\n",
       "17    chr1   12921572   12921697  PRAMEF2      +      0\n",
       "18    chr1   35250343   35250457     GJB3      +      0\n",
       "19    chr1   35250413   35250535     GJB3      +      0\n",
       "20    chr1   35250473   35250599     GJB3      +      0\n",
       "21    chr1   35250576   35250703     GJB3      -      0\n",
       "22    chr1   35250788   35250907     GJB3      +     96\n",
       "23    chr1   35250693   35250820     GJB3      -      0\n",
       "24    chr1   35250898   35251022     GJB3      +    426\n",
       "25    chr1   35250994   35251119     GJB3      -    189\n",
       "26    chr1   35251116   35251242     GJB3      -      0\n",
       "27    chr1   36931670   36931786    CSF3R      +      0\n",
       "28    chr1   36931702   36931813    CSF3R      +      0\n",
       "29    chr1   36931905   36932029    CSF3R      -      0\n",
       "...    ...        ...        ...      ...    ...    ...\n",
       "5857  chrX  129189928  129190051   BCORL1      +      0\n",
       "5858  chrX  129189973  129190095   BCORL1      -      0\n",
       "5859  chrX  129190081  129190198   BCORL1      -      0\n",
       "5860  chrX  130678041  130678156   OR13H1      +      0\n",
       "5861  chrX  130678139  130678256   OR13H1      +      0\n",
       "5862  chrX  130678247  130678362   OR13H1      +      0\n",
       "5863  chrX  130678339  130678460   OR13H1      +      0\n",
       "5864  chrX  130678460  130678579   OR13H1      +      0\n",
       "5865  chrX  130678577  130678691   OR13H1      -      0\n",
       "5866  chrX  130678675  130678789   OR13H1      -      0\n",
       "5867  chrX  130678753  130678871   OR13H1      -      0\n",
       "5868  chrX  130678865  130678979   OR13H1      -      0\n",
       "5869  chrX  133511639  133511753     PHF6      +      0\n",
       "5870  chrX  133511688  133511802     PHF6      -      0\n",
       "5871  chrX  133512059  133512168     PHF6      +      0\n",
       "5872  chrX  133512023  133512134     PHF6      -      0\n",
       "5873  chrX  133527566  133527687     PHF6      +      0\n",
       "5874  chrX  133527505  133527624     PHF6      -      0\n",
       "5875  chrX  133527903  133528012     PHF6      -      0\n",
       "5876  chrX  133547575  133547694     PHF6      +      0\n",
       "5877  chrX  133547508  133547630     PHF6      -      0\n",
       "5878  chrX  133547913  133548035     PHF6      +      0\n",
       "5879  chrX  133547816  133547930     PHF6      -      0\n",
       "5880  chrX  133549124  133549233     PHF6      +      0\n",
       "5881  chrX  133549023  133549132     PHF6      -      0\n",
       "5882  chrX  133549191  133549300     PHF6      -      0\n",
       "5883  chrX  133551185  133551294     PHF6      -      0\n",
       "5884  chrX  133551228  133551339     PHF6      -      0\n",
       "5885  chrX  133559220  133559334     PHF6      -      0\n",
       "5886  chrX  133559259  133559368     PHF6      -      0\n",
       "\n",
       "[5887 rows x 6 columns]"
      ]
     },
     "execution_count": 119,
     "metadata": {},
     "output_type": "execute_result"
    }
   ],
   "source": [
    "df"
   ]
  },
  {
   "cell_type": "code",
   "execution_count": null,
   "outputs": [],
   "source": [
    "(df == df2).sum()"
   ],
   "metadata": {
    "collapsed": false,
    "pycharm": {
     "name": "#%%\n"
    }
   }
  },
  {
   "cell_type": "code",
   "execution_count": 130,
   "metadata": {
    "pycharm": {
     "name": "#%%\n"
    }
   },
   "outputs": [
    {
     "data": {
      "text/plain": [
       "chr       False\n",
       "start     False\n",
       "end       False\n",
       "gene      False\n",
       "strand    False\n",
       "depth     False\n",
       "dtype: bool"
      ]
     },
     "execution_count": 130,
     "metadata": {},
     "output_type": "execute_result"
    }
   ],
   "source": []
  },
  {
   "cell_type": "code",
   "execution_count": null,
   "metadata": {
    "pycharm": {
     "name": "#%%\n"
    }
   },
   "outputs": [],
   "source": []
  },
  {
   "cell_type": "code",
   "execution_count": null,
   "metadata": {
    "pycharm": {
     "name": "#%%\n"
    }
   },
   "outputs": [],
   "source": []
  },
  {
   "cell_type": "code",
   "execution_count": null,
   "metadata": {
    "pycharm": {
     "name": "#%%\n"
    }
   },
   "outputs": [],
   "source": []
  },
  {
   "cell_type": "code",
   "execution_count": null,
   "metadata": {
    "pycharm": {
     "name": "#%%\n"
    }
   },
   "outputs": [],
   "source": []
  },
  {
   "cell_type": "code",
   "execution_count": null,
   "metadata": {
    "pycharm": {
     "name": "#%%\n"
    }
   },
   "outputs": [],
   "source": []
  },
  {
   "cell_type": "code",
   "execution_count": null,
   "metadata": {
    "pycharm": {
     "name": "#%%\n"
    }
   },
   "outputs": [],
   "source": []
  },
  {
   "cell_type": "code",
   "execution_count": null,
   "metadata": {
    "pycharm": {
     "name": "#%%\n"
    }
   },
   "outputs": [],
   "source": []
  }
 ],
 "metadata": {
  "kernelspec": {
   "display_name": "Python 3",
   "language": "python",
   "name": "python3"
  },
  "language_info": {
   "codemirror_mode": {
    "name": "ipython",
    "version": 3
   },
   "file_extension": ".py",
   "mimetype": "text/x-python",
   "name": "python",
   "nbconvert_exporter": "python",
   "pygments_lexer": "ipython3",
   "version": "3.7.5"
  },
  "pycharm": {
   "stem_cell": {
    "cell_type": "raw",
    "source": [],
    "metadata": {
     "collapsed": false
    }
   }
  }
 },
 "nbformat": 4,
 "nbformat_minor": 1
}